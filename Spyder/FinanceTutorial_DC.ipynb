{
 "cells": [
  {
   "cell_type": "code",
   "execution_count": null,
   "metadata": {},
   "outputs": [],
   "source": [
    "%load_ext watermark\n",
    "# %reload_ext watermark\n",
    "%watermark -p pandas,numpy,datetime,matplotlib,pandas_datareader,fix_yahoo_finance"
   ]
  },
  {
   "cell_type": "code",
   "execution_count": null,
   "metadata": {
    "collapsed": true
   },
   "outputs": [],
   "source": [
    "import pandas as pd\n",
    "import numpy as np\n",
    "import datetime\n",
    "import matplotlib.pyplot as plt"
   ]
  },
  {
   "cell_type": "code",
   "execution_count": null,
   "metadata": {},
   "outputs": [],
   "source": [
    "# import data\n",
    "from pandas_datareader import data as pdr\n",
    "import fix_yahoo_finance\n",
    "\n",
    "aapl = pdr.get_data_yahoo('AAPL',\n",
    "                          start = datetime.datetime(2006, 10, 1),\n",
    "                          end = datetime.datetime(2012, 1, 1))\n",
    "aapl.head()"
   ]
  },
  {
   "cell_type": "code",
   "execution_count": null,
   "metadata": {
    "collapsed": true
   },
   "outputs": [],
   "source": [
    "# alternately import data\n",
    "import quandl \n",
    "aapl = quandl.get(\"WIKI/AAPL\", start_date = \"2006-10-01\", end_date = \"2012-01-01\")\n",
    "aapl.head()"
   ]
  },
  {
   "cell_type": "code",
   "execution_count": null,
   "metadata": {
    "collapsed": true
   },
   "outputs": [],
   "source": [
    "# alternately, one can load in a data set that has been retrieved already from Yahoo! Finance\n",
    "aapl = pd.read_csv(\"https://s3.amazonaws.com/assets.datacamp.com/blog_assets/aapl.csv\", header = 0, index_col = 0, names = ['Open', 'High', 'Low', 'Close', 'Volume', 'Adj Close'], parse_dates = True)\n",
    "aapl.head()"
   ]
  },
  {
   "cell_type": "code",
   "execution_count": null,
   "metadata": {},
   "outputs": [],
   "source": [
    "# inspect the first rows of November-December 2006\n",
    "print(aapl.loc[pd.Timestamp('2006-11-01'):pd.Timestamp('2006-12-31')].head(n = 2))\n",
    "\n",
    "# inspect the first rows of 2007\n",
    "print(aapl.loc['2007'].head(n = 2))\n",
    "\n",
    "# inspect November 2006\n",
    "print(aapl.iloc[22:43])\n",
    "\n",
    "# inspect the 'Open' and 'Close' values at 2006-11-01 and 2006-12-01\n",
    "print(aapl.iloc[[22, 43], [0, 3]])"
   ]
  },
  {
   "cell_type": "code",
   "execution_count": null,
   "metadata": {},
   "outputs": [],
   "source": [
    "# sample 20 rows\n",
    "sample = aapl.sample(10)\n",
    "\n",
    "# print `sample`\n",
    "print(sample)\n",
    "\n",
    "# resample to monthly level\n",
    "monthly_aapl = aapl.resample('M').mean()\n",
    "\n",
    "# print `monthly_aapl`\n",
    "print(monthly_aapl)\n",
    "\n",
    "print(aapl.asfreq(\"M\", method = \"bfill\"))"
   ]
  },
  {
   "cell_type": "code",
   "execution_count": null,
   "metadata": {},
   "outputs": [],
   "source": [
    "# add a column `diff` to `aapl`\n",
    "aapl['diff'] = aapl.Open - aapl.Close\n",
    "\n",
    "print(aapl['diff'].head())\n",
    "\n",
    "# delete the new `diff` column\n",
    "del aapl['diff']"
   ]
  },
  {
   "cell_type": "code",
   "execution_count": null,
   "metadata": {},
   "outputs": [],
   "source": [
    "# plot the closing prices for `aapl`\n",
    "aapl['Close'].plot(grid = True)\n",
    "plt.show()"
   ]
  },
  {
   "cell_type": "code",
   "execution_count": null,
   "metadata": {},
   "outputs": [],
   "source": [
    "#################################\n",
    "#                               #\n",
    "#   common financial analysis   #\n",
    "#                               #\n",
    "#################################\n",
    "\n",
    "# assign `Adj Close` to `daily_close`\n",
    "daily_close = aapl[['Adj Close']]\n",
    "\n",
    "# daily returns\n",
    "daily_pct_c = daily_close.pct_change()\n",
    "\n",
    "# replace NA values with 0\n",
    "daily_pct_c.fillna(0, inplace = True)\n",
    "\n",
    "# inspect daily returns\n",
    "print(daily_pct_c)\n",
    "\n",
    "# daily log returns\n",
    "daily_log_returns = np.log(daily_close.pct_change() + 1)\n",
    "\n",
    "# print daily log returns\n",
    "print(daily_log_returns)"
   ]
  },
  {
   "cell_type": "code",
   "execution_count": null,
   "metadata": {},
   "outputs": [],
   "source": [
    "# resample `aapl` to business months, take last observation as value\n",
    "monthly = aapl.resample('BM').apply(lambda x: x[-1])\n",
    "\n",
    "# calculate the monthly percentage change\n",
    "monthly.pct_change()\n",
    "\n",
    "# resample `aapl` to quarters, take the mean as value per quarter\n",
    "quarter = aapl.resample(\"4M\").mean()\n",
    "\n",
    "# calculate the quarterly percentage change\n",
    "quarter.pct_change()"
   ]
  },
  {
   "cell_type": "code",
   "execution_count": null,
   "metadata": {
    "collapsed": true
   },
   "outputs": [],
   "source": [
    "# alternately to using pct_change() by using shift(1) function\n",
    "# daily returns\n",
    "daily_pct_c = daily_close / daily_close.shift(1) - 1\n",
    "\n",
    "# print `daily_pct_c`\n",
    "print(daily_pct_c)\n",
    "\n",
    "# daily log returns\n",
    "daily_log_returns_shift = np.log(daily_close / daily_close.shift(1))\n",
    "\n",
    "# print daily log returns\n",
    "print(daily_log_returns_shift)"
   ]
  },
  {
   "cell_type": "code",
   "execution_count": null,
   "metadata": {},
   "outputs": [],
   "source": [
    "# plot the distribution of `daily_pct_c`\n",
    "daily_pct_c.hist(bins = 50)\n",
    "plt.show()\n",
    "\n",
    "# summary statistics\n",
    "print(daily_pct_c.describe())"
   ]
  },
  {
   "cell_type": "code",
   "execution_count": null,
   "metadata": {},
   "outputs": [],
   "source": [
    "# calculate the cumulative daily returns\n",
    "cum_daily_return = (1 + daily_pct_c).cumprod()\n",
    "\n",
    "# print `cum_daily_return`\n",
    "print(cum_daily_return)"
   ]
  },
  {
   "cell_type": "code",
   "execution_count": null,
   "metadata": {},
   "outputs": [],
   "source": [
    "# plot the cumulative daily returns\n",
    "cum_daily_return.plot(figsize = (12, 8))\n",
    "plt.show()"
   ]
  },
  {
   "cell_type": "code",
   "execution_count": null,
   "metadata": {},
   "outputs": [],
   "source": [
    "# resample the cumulative daily return to cumulative monthly return\n",
    "cum_monthly_return = cum_daily_return.resample(\"M\").mean()\n",
    "\n",
    "# print the `cum_monthly_return`\n",
    "print(cum_monthly_return)"
   ]
  },
  {
   "cell_type": "code",
   "execution_count": null,
   "metadata": {},
   "outputs": [],
   "source": [
    "### fetch data for other stocks for comparison\n",
    "\n",
    "# ticker = symbol of the stock\n",
    "def get(tickers, startdate, enddate):\n",
    "    def data(ticker):\n",
    "        return (pdr.get_data_yahoo(ticker, start = startdate, end = enddate))\n",
    "    datas = map(data, tickers)\n",
    "    return(pd.concat(datas, keys = tickers, names = ['Ticker', 'Date'])) # tickers is the new (outer)key of the composite key, which is the only key element required to be put\n",
    "\n",
    "tickers = ['AAPL', 'MSFT', 'IBM', 'GOOG']\n",
    "all_data = get(tickers, datetime.datetime(2006, 10, 1), datetime.datetime(2012, 1, 1))\n",
    "all_data.head()"
   ]
  },
  {
   "cell_type": "code",
   "execution_count": null,
   "metadata": {},
   "outputs": [],
   "source": [
    "# alternately, one can load in a data set that has been retrieved already from Yahoo! Finance\n",
    "all_data = pd.read_csv(\"https://s3.amazonaws.com/assets.datacamp.com/blog_assets/all_stock_data.csv\", index_col = [0, 1], header = 0, parse_dates = [1])\n",
    "all_data.head()"
   ]
  },
  {
   "cell_type": "code",
   "execution_count": null,
   "metadata": {},
   "outputs": [],
   "source": [
    "# plot 4 distributions in 2 x 2 subplots\n",
    "daily_close_px = all_data[['Adj Close']].reset_index().pivot('Date', 'Ticker', 'Adj Close')\n",
    "\n",
    "# calculate the daily percentage change for `daily_close_px`\n",
    "daily_pct_change = daily_close_px.pct_change()\n",
    "\n",
    "# plot the 4 distributions\n",
    "daily_pct_change.hist(bins = 50, sharex = True, figsize = (12, 8))\n",
    "plt.show()"
   ]
  },
  {
   "cell_type": "code",
   "execution_count": null,
   "metadata": {},
   "outputs": [],
   "source": [
    "# plot a scatterplot matrix with the `daily_pct_change` data\n",
    "pd.plotting.scatter_matrix(daily_pct_change, diagonal = 'kde', alpha = 0.1, figsize = (12, 12))\n",
    "plt.show()"
   ]
  },
  {
   "cell_type": "code",
   "execution_count": null,
   "metadata": {},
   "outputs": [],
   "source": [
    "### moving windows\n",
    "\n",
    "# isolate the adjusted closing prices\n",
    "adj_close_px = aapl['Adj Close']\n",
    "\n",
    "# calculate the moving average\n",
    "moving_avg = adj_close_px.rolling(window = 40).mean()\n",
    "\n",
    "# inspect the result\n",
    "moving_avg[-10:]"
   ]
  },
  {
   "cell_type": "code",
   "execution_count": null,
   "metadata": {},
   "outputs": [],
   "source": [
    "# short moving window rolling mean\n",
    "aapl['42'] = adj_close_px.rolling(window = 42).mean()\n",
    "\n",
    "# long moving window rolling mean\n",
    "aapl['252'] = adj_close_px.rolling(window = 252).mean()\n",
    "\n",
    "# plot the adjusted closing price, the short and long windows of rolling means\n",
    "aapl[['Adj Close', '42', '252']].plot()\n",
    "plt.show()"
   ]
  },
  {
   "cell_type": "code",
   "execution_count": null,
   "metadata": {},
   "outputs": [],
   "source": [
    "### volatility calculation\n",
    "\n",
    "# define the minumum of periods to consider\n",
    "min_periods = 75\n",
    "\n",
    "# Calculate the volatility\n",
    "vol = daily_pct_change.rolling(min_periods).std() * np.sqrt(min_periods)\n",
    "\n",
    "# plot the volatility\n",
    "vol.plot(figsize = (10, 8))\n",
    "plt.show()"
   ]
  },
  {
   "cell_type": "code",
   "execution_count": null,
   "metadata": {},
   "outputs": [],
   "source": [
    "### OLS regression - MSFT returns ~ AAPL returns regressed\n",
    "\n",
    "# import the `api` model of `statsmodels` under alias `sm`\n",
    "import statsmodels.api as sm\n",
    "from pandas import tseries\n",
    "from pandas.core import datetools\n",
    "\n",
    "# isolate the adjusted closing price\n",
    "all_adj_close = all_data[['Adj Close']]\n",
    "\n",
    "# calculate the returns\n",
    "all_returns = np.log(all_adj_close / all_adj_close.shift(1))\n",
    "\n",
    "# isolate the AAPL returns\n",
    "aapl_returns = all_returns.iloc[all_returns.index.get_level_values('Ticker') == 'AAPL']\n",
    "aapl_returns.index = aapl_returns.index.droplevel('Ticker')\n",
    "\n",
    "# isolate the MSFT returns\n",
    "msft_returns = all_returns.iloc[all_returns.index.get_level_values('Ticker') == 'MSFT']\n",
    "msft_returns.index = msft_returns.index.droplevel('Ticker')\n",
    "\n",
    "# build up a new DataFrame with AAPL and MSFT returns\n",
    "return_data = pd.concat([aapl_returns, msft_returns], axis = 1)[1:]\n",
    "return_data.columns = ['AAPL', 'MSFT']\n",
    "\n",
    "# add a constant\n",
    "X = sm.add_constant(return_data['AAPL'])\n",
    "\n",
    "# construct the model\n",
    "model = sm.OLS(return_data['MSFT'], X).fit()\n",
    "\n",
    "# print the summary\n",
    "print(model.summary())"
   ]
  },
  {
   "cell_type": "code",
   "execution_count": null,
   "metadata": {},
   "outputs": [],
   "source": [
    "plt.plot(return_data['AAPL'], return_data['MSFT'], 'g.')\n",
    "\n",
    "ax = plt.axis()\n",
    "x = np.linspace(ax[0], ax[1] + 0.01)\n",
    "\n",
    "plt.plot(x, model.params[0] + model.params[1] * x, 'b', lw = 2)\n",
    "\n",
    "plt.grid(True)\n",
    "plt.axis('tight')\n",
    "plt.xlabel('Apple Returns')\n",
    "plt.ylabel('Microsoft returns')\n",
    "plt.show()"
   ]
  },
  {
   "cell_type": "code",
   "execution_count": null,
   "metadata": {},
   "outputs": [],
   "source": [
    "# rolling smoothed correlation plot with time\n",
    "return_data['MSFT'].rolling(window = 252).corr(return_data['AAPL']).plot()\n",
    "plt.show()"
   ]
  },
  {
   "cell_type": "code",
   "execution_count": null,
   "metadata": {
    "collapsed": true
   },
   "outputs": [],
   "source": [
    "### Building A Trading Strategy With Python\n",
    "\n",
    "# initialise the short and long windows\n",
    "short_window = 40\n",
    "long_window = 100\n",
    "\n",
    "# initialise the `signals` DataFrame with the `signal` column\n",
    "signals = pd.DataFrame(index = aapl.index)\n",
    "signals['signal'] = 0.0\n",
    "\n",
    "# create short simple moving average over the short window\n",
    "signals['short_mavg'] = aapl['Close'].rolling(window = short_window, min_periods = 1, center = False).mean()\n",
    "\n",
    "# create long simple moving average over the long window\n",
    "signals['long_mavg'] = aapl['Close'].rolling(window = long_window, min_periods = 1, center = False).mean()\n",
    "\n",
    "# create signals\n",
    "signals['signal'][short_window:] = np.where(signals['short_mavg'][short_window:]\n",
    "                                            > signals['long_mavg'][short_window:], 1.0, 0.0)\n",
    "\n",
    "# generate trading orders\n",
    "signals['positions'] = signals['signal'].diff()"
   ]
  },
  {
   "cell_type": "code",
   "execution_count": null,
   "metadata": {},
   "outputs": [],
   "source": [
    "# initialise the plot figure\n",
    "fig = plt.figure()\n",
    "\n",
    "# add a subplot and label for y-axis\n",
    "ax1 = fig.add_subplot(111, ylabel = 'Price in $')\n",
    "\n",
    "# plot the closing price\n",
    "aapl['Close'].plot(ax = ax1, color = 'g', lw = 1.25)\n",
    "\n",
    "# plot the short and long moving averages\n",
    "signals[['short_mavg', 'long_mavg']].plot(ax = ax1, lw = 1.25)\n",
    "\n",
    "# plot the buy signals\n",
    "ax1.plot(signals.loc[signals.positions == 1.0].index,\n",
    "         signals.short_mavg[signals.positions == 1.0],\n",
    "         '^', markersize = 10, color = 'm')\n",
    "\n",
    "# plot the sell signals\n",
    "ax1.plot(signals.loc[signals.positions == -1.0].index,\n",
    "         signals.short_mavg[signals.positions == -1.0],\n",
    "         'v', markersize = 10, color = 'k')\n",
    "\n",
    "plt.show()"
   ]
  },
  {
   "cell_type": "code",
   "execution_count": null,
   "metadata": {
    "collapsed": true
   },
   "outputs": [],
   "source": [
    "### Backtesting A Strategy\n",
    "\n",
    "# set the initial capital\n",
    "initial_capital = float(100000.0)\n",
    "\n",
    "# create a DataFrame `positions`\n",
    "positions = pd.DataFrame(index = signals.index).fillna(0.0)\n",
    "\n",
    "# buy a 100 shares\n",
    "positions['AAPL'] = 100 * signals['signal']\n",
    "\n",
    "# initialise the portfolio with value owned\n",
    "portfolio = positions.multiply(aapl['Adj Close'], axis = 0)\n",
    "\n",
    "# store the difference in shares owned\n",
    "pos_diff = positions.diff()\n",
    "\n",
    "# add `holdings` to portfolio\n",
    "portfolio['holdings'] = (positions.multiply(aapl['Adj Close'], axis = 0)).sum(axis = 1)\n",
    "\n",
    "# add `cash` to portfolio\n",
    "portfolio['cash'] = initial_capital - (pos_diff.multiply(aapl['Adj Close'], axis = 0)).sum(axis = 1).cumsum()\n",
    "\n",
    "# add `total` to portfolio\n",
    "portfolio['total'] = portfolio['cash'] + portfolio['holdings']\n",
    "\n",
    "# add `returns` to portfolio\n",
    "portfolio['returns'] = portfolio['total'].pct_change()"
   ]
  },
  {
   "cell_type": "code",
   "execution_count": null,
   "metadata": {},
   "outputs": [],
   "source": [
    "# initialise the plot figure\n",
    "fig = plt.figure()\n",
    "\n",
    "ax1 = fig.add_subplot(111, ylabel = 'Portfolio value in $')\n",
    "\n",
    "# plot the equity curve in dollars\n",
    "portfolio['total'].plot(ax = ax1, lw = 1.25)\n",
    "\n",
    "# plot the \"buy\" trades against the equity curve\n",
    "ax1.plot(portfolio.loc[signals.positions == 1.0].index,\n",
    "         portfolio.total[signals.positions == 1.0],\n",
    "         '^', markersize = 10, color = 'm')\n",
    "\n",
    "# plot the \"sell\" trades against the equity curve\n",
    "ax1.plot(portfolio.loc[signals.positions == -1.0].index,\n",
    "         portfolio.total[signals.positions == -1.0],\n",
    "         'v', markersize = 10, color = 'k')\n",
    "\n",
    "plt.show()"
   ]
  },
  {
   "cell_type": "code",
   "execution_count": null,
   "metadata": {
    "collapsed": true
   },
   "outputs": [],
   "source": [
    "# Backtesting with Quantopian\n",
    "def initialize(context):\n",
    "    context.sym = symbol('AAPL')\n",
    "    context.i = 0\n",
    "\n",
    "def handle_data(context, data):\n",
    "    # skip first 300 days to get full windows\n",
    "    context.i += 1\n",
    "    if context.i < 300:\n",
    "        return\n",
    "\n",
    "    # compute averages\n",
    "    # history() has to be called with the same params\n",
    "    # from above and returns a pandas dataframe\n",
    "    short_mavg = data.history(context.sym, 'price', 100, '1d').mean()\n",
    "    long_mavg = data.history(context.sym, 'price', 300, '1d').mean()\n",
    "\n",
    "    # trading logic\n",
    "    if short_mavg > long_mavg:\n",
    "        # order_target orders as many shares as needed to\n",
    "        # achieve the desired number of shares\n",
    "        order_target(context.sym, 100)\n",
    "    elif short_mavg < long_mavg:\n",
    "        order_target(context.sym, 0)\n",
    "\n",
    "    # save values for later inspection\n",
    "    record(AAPL = data.current(context.sym, \"price\"),\n",
    "           short_mavg = short_mavg,\n",
    "           long_mavg = long_mavg)"
   ]
  },
  {
   "cell_type": "code",
   "execution_count": null,
   "metadata": {},
   "outputs": [],
   "source": [
    "### Evaluating Moving Average Crossover Strategy\n",
    "\n",
    "# Sharpe ratio\n",
    "\n",
    "# isolate the returns of your strategy\n",
    "returns = portfolio['returns']\n",
    "\n",
    "# annualised Sharpe ratio\n",
    "sharpe_ratio = np.sqrt(252) * (returns.mean() / returns.std())\n",
    "\n",
    "# print the Sharpe ratio\n",
    "print(sharpe_ratio)"
   ]
  },
  {
   "cell_type": "code",
   "execution_count": null,
   "metadata": {},
   "outputs": [],
   "source": [
    "# Maximum Drawdown\n",
    "\n",
    "# define a trailing 252 trading day window\n",
    "window = 252\n",
    "\n",
    "# calculate the max drawdown in the past window days for each day\n",
    "rolling_max = aapl['Adj Close'].rolling(window, min_periods = 1).max()\n",
    "daily_drawdown = aapl['Adj Close'] / rolling_max - 1.0\n",
    "\n",
    "# calculate the minimum (negative) daily drawdown\n",
    "max_daily_drawdown = daily_drawdown.rolling(window, min_periods = 1).min()\n",
    "\n",
    "# plot the results\n",
    "daily_drawdown.plot()\n",
    "max_daily_drawdown.plot()\n",
    "plt.show()"
   ]
  },
  {
   "cell_type": "code",
   "execution_count": null,
   "metadata": {},
   "outputs": [],
   "source": [
    "# Compound Annual Growth Rate (CAGR)\n",
    "\n",
    "# get the number of days in `aapl`\n",
    "days = (aapl.index[-1] - aapl.index[0]).days\n",
    "\n",
    "# calculate the CAGR \n",
    "cagr = ((((aapl['Adj Close'][-1]) / aapl['Adj Close'][1])) ** (365.0/days)) - 1\n",
    "\n",
    "# Print CAGR\n",
    "print(cagr)"
   ]
  }
 ],
 "metadata": {
  "kernelspec": {
   "display_name": "Python [conda root]",
   "language": "python",
   "name": "conda-root-py"
  },
  "language_info": {
   "codemirror_mode": {
    "name": "ipython",
    "version": 3
   },
   "file_extension": ".py",
   "mimetype": "text/x-python",
   "name": "python",
   "nbconvert_exporter": "python",
   "pygments_lexer": "ipython3",
   "version": "3.5.4"
  }
 },
 "nbformat": 4,
 "nbformat_minor": 2
}
