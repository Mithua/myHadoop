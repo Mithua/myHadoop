{
 "cells": [
  {
   "cell_type": "code",
   "execution_count": null,
   "metadata": {
    "collapsed": true
   },
   "outputs": [],
   "source": [
    "from pyspark import SparkContext\n",
    "sc = SparkContext(\"local\", \"test\")"
   ]
  },
  {
   "cell_type": "code",
   "execution_count": null,
   "metadata": {},
   "outputs": [],
   "source": [
    "# ['user_id', 'age', 'sex', 'occupation', 'zip_code']\n",
    "userRDD = sc.textFile(\"./u.user\")\n",
    "\n",
    "# ['user_id', 'movie_id', 'rating', 'unix_timestamp']\n",
    "ratingRDD = sc.textFile(\"./u.data\")\n",
    "\n",
    "# ['movie_id', 'title', 'release_date', 'video_release_date', 'imdb_url' and 18 more columns]\n",
    "movieRDD = sc.textFile(\"./u.item\")\n",
    "\n",
    "print(\"userRDD : \", userRDD.take(2))\n",
    "print(\"ratingRDD : \", ratingRDD.take(2))\n",
    "print(\"movieRDD : \", movieRDD.take(2))"
   ]
  },
  {
   "cell_type": "code",
   "execution_count": null,
   "metadata": {},
   "outputs": [],
   "source": [
    "### What are the 25 most rated movies? ###\n",
    "\n",
    "# Create a RDD from ratingRDD that only contains the two columns of interest, i.e., movie_id, rating\n",
    "RDD_movid_rating = ratingRDD.map(lambda x : (x.split(\"\\t\")[1], x.split(\"\\t\")[2]))\n",
    "print(\"RDD_movid_rating : \", RDD_movid_rating.take(3))\n",
    "\n",
    "# Create a RDD from movieRDD that only contains the two columns of interest, i.e., movie_id, title\n",
    "RDD_movid_title = movieRDD.map(lambda x : (x.split(\"|\")[0], x.split(\"|\")[1]))\n",
    "print(\"RDD_movid_title : \", RDD_movid_title.take(3))\n",
    "\n",
    "# merge these two pair RDDs based on movie_id.  We will use the transformation leftOuterJoin()\n",
    "rdd_movid_title_rating = RDD_movid_rating.leftOuterJoin(RDD_movid_title)\n",
    "print(\"rdd_movid_title_rating : \", rdd_movid_title_rating.take(10))\n",
    "\n",
    "# use the RDD in previous step to create (movie, 1) tuple pair RDD\n",
    "rdd_title_rating = rdd_movid_title_rating.map(lambda x : (x[1][1], 1))\n",
    "print(\"rdd_title_rating : \", rdd_title_rating.take(20))\n",
    "\n",
    "# Use the transformation reduceByKey() to reduce on the basis of title\n",
    "rdd_title_ratingcnt = rdd_title_rating.reduceByKey(lambda x, y : x + y)\n",
    "print(\"rdd_title_ratingcnt : \", rdd_title_ratingcnt.take(5))\n",
    "\n",
    "# Get the final answer by using the transformation takeOrdered()\n",
    "print(\"#####################################\")\n",
    "print(\"25 most rated movies : \", rdd_title_ratingcnt.takeOrdered(25, lambda x : -x[1]))\n",
    "print(\"#####################################\")"
   ]
  },
  {
   "cell_type": "code",
   "execution_count": null,
   "metadata": {},
   "outputs": [],
   "source": [
    "# The above example in a single code\n",
    "print(((ratingRDD.map(lambda x : (x.split(\"\\t\")[1], x.split(\"\\t\")[2]))). \\\n",
    "    leftOuterJoin(movieRDD.map(lambda x : (x.split(\"|\")[0], x.split(\"|\")[1])))). \\\n",
    "    map(lambda x : (x[1][1], 1)). \\\n",
    "    reduceByKey(lambda x, y : x + y). \\\n",
    "    takeOrdered(25, lambda x : -x[1]))"
   ]
  },
  {
   "cell_type": "code",
   "execution_count": null,
   "metadata": {},
   "outputs": [],
   "source": [
    "### Which movies are most highly rated? ###\n",
    "\n",
    "# We already have rdd_movid_title_rating : [(u'429', (u'5', u'Day the Earth Stood Still, The (1951)'))]\n",
    "# We create an RDD that contains sum of all the ratings for a particular movie\n",
    "\n",
    "rdd_title_ratingsum = (rdd_movid_title_rating.map(lambda x : (x[1][1], int(x[1][0]))).reduceByKey(lambda x, y : x + y))\n",
    "\n",
    "print(\"rdd_title_ratingsum : \", rdd_title_ratingsum.take(4))\n",
    "\n",
    "# Merge this data with rdd_title_ratingcnt that we created previously\n",
    "# And use map() function to divide rdd_title_ratingsum by rdd_title_ratingcnt\n",
    "\n",
    "rdd_title_ratingmean_rating_count = (rdd_title_ratingsum.leftOuterJoin(rdd_title_ratingcnt). \\\n",
    "                                     map(lambda x : (x[0], (float(x[1][0]) / x[1][1], x[1][1]))))\n",
    "\n",
    "print(\"rdd_title_ratingmean_rating_count : \", rdd_title_ratingmean_rating_count.take(3))\n",
    "\n",
    "# We could have used take ordered here, but we want to only get the movies which have the counts\n",
    "# of ratings >= 100; so lets filter the RDDs\n",
    "rdd_title_rating_rating_count_gt_100 = (rdd_title_ratingmean_rating_count.filter(lambda x : x[1][1] >= 100))\n",
    "\n",
    "print(\"rdd_title_rating_rating_count_gt_100 : \", rdd_title_rating_rating_count_gt_100.take(3))\n",
    "\n",
    "# Get the final answer by using the transformation takeOrdered()\n",
    "print(\"#####################################\")\n",
    "print(\"25 highly rated movies : \")\n",
    "print(rdd_title_rating_rating_count_gt_100.takeOrdered(25, lambda x : -x[1][0]))\n",
    "print(\"#####################################\")"
   ]
  }
 ],
 "metadata": {
  "kernelspec": {
   "display_name": "Python [conda root]",
   "language": "python",
   "name": "conda-root-py"
  },
  "language_info": {
   "codemirror_mode": {
    "name": "ipython",
    "version": 3
   },
   "file_extension": ".py",
   "mimetype": "text/x-python",
   "name": "python",
   "nbconvert_exporter": "python",
   "pygments_lexer": "ipython3",
   "version": "3.5.3"
  }
 },
 "nbformat": 4,
 "nbformat_minor": 2
}
